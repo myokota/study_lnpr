{
 "cells": [
  {
   "cell_type": "code",
   "execution_count": 1,
   "metadata": {},
   "outputs": [],
   "source": [
    "import sys\n",
    "sys.path.append(\"../scripts/\")\n",
    "from robot import *\n",
    "from scipy.stats import multivariate_normal"
   ]
  },
  {
   "cell_type": "code",
   "execution_count": 2,
   "metadata": {},
   "outputs": [],
   "source": [
    "class Particle:\n",
    "    def __init__(self, init_pose):\n",
    "        self.pose = init_pose"
   ]
  },
  {
   "cell_type": "code",
   "execution_count": 3,
   "metadata": {},
   "outputs": [],
   "source": [
    "class Mcl:\n",
    "    def __init__(self, init_pose, num, motion_noise_stds):\n",
    "        self.particles = [Particle(init_pose) for i in range(num)]\n",
    "        \n",
    "        v = motion_noise_stds\n",
    "        c = np.diag([v[\"nn\"]**2, v[\"no\"]**2, v[\"on\"]**2, v[\"oo\"]**2])\n",
    "        self.motion_noise_rate_pdf = multivariate_normal(cov=c)\n",
    "        \n",
    "    def motion_update(self, nu, omega, time):\n",
    "        print(self.motion_noise_rate_pdf.cov)\n",
    "        \n",
    "    def draw(self, ax, elems):\n",
    "        xs = [p.pose[0] for p in self.particles]\n",
    "        ys = [p.pose[1] for p in self.particles]\n",
    "        vxs = [math.cos(p.pose[2]) for p in self.particles]\n",
    "        vys = [math.sin(p.pose[2]) for p in self.particles]\n",
    "        elems.append(ax.quiver(xs, ys, vxs, vys, color=\"blue\", alpha=0.5))"
   ]
  },
  {
   "cell_type": "code",
   "execution_count": 4,
   "metadata": {},
   "outputs": [],
   "source": [
    "class EstimationAgent(Agent):\n",
    "    def __init__(self, time_interval, nu, omega, estimator):\n",
    "        super().__init__(nu, omega)\n",
    "        self.estimator = estimator\n",
    "        self.time_interval = time_interval\n",
    "        \n",
    "    def draw(self, ax, elems):\n",
    "        self.estimator.draw(ax, elems)"
   ]
  },
  {
   "cell_type": "code",
   "execution_count": 7,
   "metadata": {},
   "outputs": [
    {
     "name": "stdout",
     "output_type": "stream",
     "text": [
      "[[0.0001 0.     0.     0.    ]\n",
      " [0.     0.0004 0.     0.    ]\n",
      " [0.     0.     0.0009 0.    ]\n",
      " [0.     0.     0.     0.0016]]\n"
     ]
    }
   ],
   "source": [
    "world = World(30, 0.1, debug=False)\n",
    "\n",
    "m = Map()\n",
    "for ln in [(-4, 2), (2, -3), (3, 3)]: m.append_landmark(Landmark(*ln))\n",
    "world.append(m)\n",
    "\n",
    "#initial_pose = np.array([2, 2, math.pi/6]).T\n",
    "#estimator = Mcl(initial_pose, 100)\n",
    "#circling = EstimationAgent(0.2, 10.0/180*math.pi, estimator)\n",
    "#r = Robot(initial_pose, sensor=Camera(m), agent=circling)\n",
    "#world.append(r)\n",
    "#world.draw()\n",
    "\n",
    "initial_pose = np.array([0, 0, 0]).T\n",
    "estimator = Mcl(initial_pose, 100, motion_noise_stds={\"nn\":0.01, \"no\":0.02, \"on\":0.03, \"oo\":0.04})\n",
    "a = EstimationAgent(0.1, 0.2, 10.0/180*math.pi, estimator)\n",
    "estimator.motion_update(0.2, 10.0/180*math.pi, 0.1)"
   ]
  },
  {
   "cell_type": "code",
   "execution_count": null,
   "metadata": {},
   "outputs": [],
   "source": []
  }
 ],
 "metadata": {
  "kernelspec": {
   "display_name": "Python 3",
   "language": "python",
   "name": "python3"
  },
  "language_info": {
   "codemirror_mode": {
    "name": "ipython",
    "version": 3
   },
   "file_extension": ".py",
   "mimetype": "text/x-python",
   "name": "python",
   "nbconvert_exporter": "python",
   "pygments_lexer": "ipython3",
   "version": "3.7.1"
  }
 },
 "nbformat": 4,
 "nbformat_minor": 4
}

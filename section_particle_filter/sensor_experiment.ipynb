{
 "cells": [
  {
   "cell_type": "code",
   "execution_count": 5,
   "metadata": {},
   "outputs": [],
   "source": [
    "import sys\n",
    "sys.path.append(\"../scripts/\")\n",
    "import pandas as pd\n",
    "from robot import *"
   ]
  },
  {
   "cell_type": "code",
   "execution_count": 6,
   "metadata": {},
   "outputs": [
    {
     "data": {
      "text/html": [
       "<div>\n",
       "<style scoped>\n",
       "    .dataframe tbody tr th:only-of-type {\n",
       "        vertical-align: middle;\n",
       "    }\n",
       "\n",
       "    .dataframe tbody tr th {\n",
       "        vertical-align: top;\n",
       "    }\n",
       "\n",
       "    .dataframe thead th {\n",
       "        text-align: right;\n",
       "    }\n",
       "</style>\n",
       "<table border=\"1\" class=\"dataframe\">\n",
       "  <thead>\n",
       "    <tr style=\"text-align: right;\">\n",
       "      <th></th>\n",
       "      <th>distance</th>\n",
       "      <th>direction</th>\n",
       "    </tr>\n",
       "  </thead>\n",
       "  <tbody>\n",
       "    <tr>\n",
       "      <th>0</th>\n",
       "      <td>1.219255</td>\n",
       "      <td>0.055367</td>\n",
       "    </tr>\n",
       "    <tr>\n",
       "      <th>1</th>\n",
       "      <td>0.870377</td>\n",
       "      <td>-0.070577</td>\n",
       "    </tr>\n",
       "    <tr>\n",
       "      <th>2</th>\n",
       "      <td>1.168990</td>\n",
       "      <td>-0.033049</td>\n",
       "    </tr>\n",
       "    <tr>\n",
       "      <th>3</th>\n",
       "      <td>1.051718</td>\n",
       "      <td>0.044910</td>\n",
       "    </tr>\n",
       "    <tr>\n",
       "      <th>4</th>\n",
       "      <td>1.053062</td>\n",
       "      <td>0.006148</td>\n",
       "    </tr>\n",
       "    <tr>\n",
       "      <th>...</th>\n",
       "      <td>...</td>\n",
       "      <td>...</td>\n",
       "    </tr>\n",
       "    <tr>\n",
       "      <th>901</th>\n",
       "      <td>0.888517</td>\n",
       "      <td>0.037313</td>\n",
       "    </tr>\n",
       "    <tr>\n",
       "      <th>902</th>\n",
       "      <td>1.046181</td>\n",
       "      <td>-0.054689</td>\n",
       "    </tr>\n",
       "    <tr>\n",
       "      <th>903</th>\n",
       "      <td>0.928817</td>\n",
       "      <td>0.018507</td>\n",
       "    </tr>\n",
       "    <tr>\n",
       "      <th>904</th>\n",
       "      <td>0.952281</td>\n",
       "      <td>-0.057832</td>\n",
       "    </tr>\n",
       "    <tr>\n",
       "      <th>905</th>\n",
       "      <td>1.290163</td>\n",
       "      <td>-0.004724</td>\n",
       "    </tr>\n",
       "  </tbody>\n",
       "</table>\n",
       "<p>906 rows × 2 columns</p>\n",
       "</div>"
      ],
      "text/plain": [
       "     distance  direction\n",
       "0    1.219255   0.055367\n",
       "1    0.870377  -0.070577\n",
       "2    1.168990  -0.033049\n",
       "3    1.051718   0.044910\n",
       "4    1.053062   0.006148\n",
       "..        ...        ...\n",
       "901  0.888517   0.037313\n",
       "902  1.046181  -0.054689\n",
       "903  0.928817   0.018507\n",
       "904  0.952281  -0.057832\n",
       "905  1.290163  -0.004724\n",
       "\n",
       "[906 rows x 2 columns]"
      ]
     },
     "execution_count": 6,
     "metadata": {},
     "output_type": "execute_result"
    }
   ],
   "source": [
    "# パーティクルにロボットからのセンサ値を反映するために、\n",
    "# 得られたセンサ値をもとに各パーティクルの尤度を求める尤度関数を実装する\n",
    "# その尤度によって、各パーティクルに反映・評価する\n",
    "# 尤度関数はガウス分布に従う事とし、その分散を以下の統計結果から決定\n",
    "m = Map()\n",
    "# (x, y) = (1, 0) でランドマークを作成\n",
    "m.append_landmark(Landmark(1, 0))\n",
    "\n",
    "distance = []\n",
    "direction = []\n",
    "\n",
    "for i in range(1000):\n",
    "    c = Camera(m)\n",
    "    # 異なるバイアスで、上記ランドマークを原点から1000回観測\n",
    "    d = c.data(np.array([0.0, 0.0, 0.0]).T)\n",
    "    if len(d) > 0:\n",
    "        distance.append(d[0][0][0])\n",
    "        direction.append(d[0][0][1])\n",
    "        \n",
    "df = pd.DataFrame()\n",
    "df[\"distance\"] = distance\n",
    "df[\"direction\"] = direction\n",
    "df"
   ]
  },
  {
   "cell_type": "code",
   "execution_count": 7,
   "metadata": {},
   "outputs": [
    {
     "data": {
      "text/plain": [
       "distance     0.143822\n",
       "direction    0.046985\n",
       "dtype: float64"
      ]
     },
     "execution_count": 7,
     "metadata": {},
     "output_type": "execute_result"
    }
   ],
   "source": [
    "df.std()"
   ]
  },
  {
   "cell_type": "code",
   "execution_count": 8,
   "metadata": {},
   "outputs": [
    {
     "data": {
      "text/plain": [
       "distance     1.003130\n",
       "direction   -0.000211\n",
       "dtype: float64"
      ]
     },
     "execution_count": 8,
     "metadata": {},
     "output_type": "execute_result"
    }
   ],
   "source": [
    "df.mean()"
   ]
  }
 ],
 "metadata": {
  "kernelspec": {
   "display_name": "Python 3",
   "language": "python",
   "name": "python3"
  },
  "language_info": {
   "codemirror_mode": {
    "name": "ipython",
    "version": 3
   },
   "file_extension": ".py",
   "mimetype": "text/x-python",
   "name": "python",
   "nbconvert_exporter": "python",
   "pygments_lexer": "ipython3",
   "version": "3.7.1"
  }
 },
 "nbformat": 4,
 "nbformat_minor": 2
}

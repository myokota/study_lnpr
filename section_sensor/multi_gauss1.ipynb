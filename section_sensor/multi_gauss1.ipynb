{
 "cells": [
  {
   "cell_type": "code",
   "execution_count": 7,
   "metadata": {
    "scrolled": true
   },
   "outputs": [
    {
     "name": "stdout",
     "output_type": "stream",
     "text": [
      "           date   time  ir  lidar\n",
      "0      20180205  84535  16    734\n",
      "1      20180205  84538  17    736\n",
      "2      20180205  84541   6    733\n",
      "3      20180205  84544  17    738\n",
      "4      20180205  84547  16    734\n",
      "...         ...    ...  ..    ...\n",
      "86185  20180208  95056  30    746\n",
      "86186  20180208  95059  20    739\n",
      "86187  20180208  95102   9    744\n",
      "86188  20180208  95104  18    741\n",
      "86189  20180208  95108  14    744\n",
      "\n",
      "[86190 rows x 4 columns]\n",
      "           date    time  ir  lidar\n",
      "3832   20180205  120000  17    726\n",
      "3833   20180205  120003  14    730\n",
      "3834   20180205  120006  14    724\n",
      "3835   20180205  120010  21    724\n",
      "3836   20180205  120013  26    725\n",
      "...         ...     ...  ..    ...\n",
      "65155  20180207  155946   8    729\n",
      "65156  20180207  155949  25    730\n",
      "65157  20180207  155952  10    731\n",
      "65158  20180207  155955  15    735\n",
      "65159  20180207  155958  19    733\n",
      "\n",
      "[14175 rows x 4 columns]\n",
      "       ir  lidar\n",
      "3832   17    726\n",
      "3833   14    730\n",
      "3834   14    724\n",
      "3835   21    724\n",
      "3836   26    725\n",
      "...    ..    ...\n",
      "65155   8    729\n",
      "65156  25    730\n",
      "65157  10    731\n",
      "65158  15    735\n",
      "65159  19    733\n",
      "\n",
      "[14175 rows x 2 columns]\n"
     ]
    },
    {
     "data": {
      "image/png": "[encoded data removed]",
      "text/plain": [
       "<Figure size 432x432 with 3 Axes>"
      ]
     },
     "metadata": {
      "needs_background": "light"
     },
     "output_type": "display_data"
    }
   ],
   "source": [
    "import pandas as pd\n",
    "import seaborn as sns\n",
    "import matplotlib.pyplot as plt\n",
    "\n",
    "data = pd.read_csv(\"sensor_data_700.txt\", delimiter=\" \", header=None, names=(\"date\", \"time\", \"ir\", \"lidar\"))\n",
    "print(data)\n",
    "d = data[(data[\"time\"] < 160000) & (data[\"time\"] >= 120000)]\n",
    "print(d)\n",
    "d = d.loc[:,[\"ir\", \"lidar\"]]\n",
    "print(d)\n",
    "\n",
    "sns.jointplot(d[\"ir\"], d[\"lidar\"], d, kind=\"kde\")\n",
    "plt.show()\n"
   ]
  },
  {
   "cell_type": "code",
   "execution_count": 11,
   "metadata": {},
   "outputs": [
    {
     "name": "stdout",
     "output_type": "stream",
     "text": [
      "光センサの計測値の分散 42.117126367699505\n",
      "LiDARの計測値の分散 17.702026469211596\n",
      "d.ir.mean 19.860246913580248 \n",
      "\n",
      "3832     17\n",
      "3833     14\n",
      "3834     14\n",
      "3835     21\n",
      "3836     26\n",
      "         ..\n",
      "65155     8\n",
      "65156    25\n",
      "65157    10\n",
      "65158    15\n",
      "65159    19\n",
      "Name: ir, Length: 14175, dtype: int64\n",
      "3832     -2.860247\n",
      "3833     -5.860247\n",
      "3834     -5.860247\n",
      "3835      1.139753\n",
      "3836      6.139753\n",
      "           ...    \n",
      "65155   -11.860247\n",
      "65156     5.139753\n",
      "65157    -9.860247\n",
      "65158    -4.860247\n",
      "65159    -0.860247\n",
      "Name: ir, Length: 14175, dtype: float64\n"
     ]
    }
   ],
   "source": [
    "print(\"光センサの計測値の分散\", d.ir.var())\n",
    "print(\"LiDARの計測値の分散\", d.lidar.var())\n",
    "\n",
    "\n",
    "diff_ir = d.ir - d.ir.mean()\n",
    "diff_lidar = d.lidar - d.lidar.mean()\n",
    "\n",
    "print(\"d.ir.mean\", d.ir.mean(), \"\\n\")\n",
    "print(d.ir)\n",
    "print(diff_ir)\n"
   ]
  },
  {
   "cell_type": "code",
   "execution_count": null,
   "metadata": {},
   "outputs": [],
   "source": []
  }
 ],
 "metadata": {
  "file_extension": ".py",
  "kernelspec": {
   "display_name": "Python 3",
   "language": "python",
   "name": "python3"
  },
  "language_info": {
   "codemirror_mode": {
    "name": "ipython",
    "version": 3
   },
   "file_extension": ".py",
   "mimetype": "text/x-python",
   "name": "python",
   "nbconvert_exporter": "python",
   "pygments_lexer": "ipython3",
   "version": "3.7.1"
  },
  "mimetype": "text/x-python",
  "name": "python",
  "npconvert_exporter": "python",
  "pygments_lexer": "ipython3",
  "version": 3
 },
 "nbformat": 4,
 "nbformat_minor": 2
}
